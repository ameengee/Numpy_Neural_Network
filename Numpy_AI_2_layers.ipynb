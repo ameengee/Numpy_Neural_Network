{
  "nbformat": 4,
  "nbformat_minor": 0,
  "metadata": {
    "colab": {
      "provenance": []
    },
    "kernelspec": {
      "name": "python3",
      "display_name": "Python 3"
    },
    "language_info": {
      "name": "python"
    }
  },
  "cells": [
    {
      "cell_type": "code",
      "execution_count": null,
      "metadata": {
        "id": "KhcKJNS-LaqO"
      },
      "outputs": [],
      "source": [
        "import numpy as np\n",
        "import pandas as pd\n",
        "import time\n",
        "import matplotlib.pyplot as plt"
      ]
    },
    {
      "cell_type": "code",
      "source": [
        "data = pd.read_csv('/content/mnist_train.csv')\n",
        "data = np.array(data)"
      ],
      "metadata": {
        "id": "oPvpd6eH7PAo"
      },
      "execution_count": null,
      "outputs": []
    },
    {
      "cell_type": "code",
      "source": [
        "data = np.array(data)\n",
        "m, _ = data.shape\n",
        "np.random.shuffle(data) # shuffle data\n",
        "\n",
        "X_test = data[:1000, 1:] / 255. # split data b/w train and test, and rescale\n",
        "Y_test = data[:1000, 0]\n",
        "\n",
        "X_train = data[1000:m, 1:] / 255.\n",
        "Y_train = data[1000:m, 0]"
      ],
      "metadata": {
        "id": "ThRN220qiX6l"
      },
      "execution_count": null,
      "outputs": []
    },
    {
      "cell_type": "code",
      "source": [
        "img = np.reshape(X_train[1], (28,28)) # visualize a data point and its label\n",
        "plt.imshow(img, cmap = 'gray')\n",
        "print(Y_train[1])"
      ],
      "metadata": {
        "id": "rFuLbixLjipg",
        "colab": {
          "base_uri": "https://localhost:8080/",
          "height": 448
        },
        "outputId": "d0c910bd-358f-4b07-e193-e19f575db2a6"
      },
      "execution_count": null,
      "outputs": [
        {
          "output_type": "stream",
          "name": "stdout",
          "text": [
            "0\n"
          ]
        },
        {
          "output_type": "display_data",
          "data": {
            "text/plain": [
              "<Figure size 640x480 with 1 Axes>"
            ],
            "image/png": "[encoded data removed]"
          },
          "metadata": {}
        }
      ]
    },
    {
      "cell_type": "code",
      "source": [
        "Y_train"
      ],
      "metadata": {
        "id": "WioS0aeujOrT",
        "colab": {
          "base_uri": "https://localhost:8080/"
        },
        "outputId": "fe278e9e-a830-4350-853d-e6664ea08516"
      },
      "execution_count": null,
      "outputs": [
        {
          "output_type": "execute_result",
          "data": {
            "text/plain": [
              "array([8, 0, 0, ..., 2, 8, 1])"
            ]
          },
          "metadata": {},
          "execution_count": 6
        }
      ]
    },
    {
      "cell_type": "code",
      "source": [
        "def relu(Z):\n",
        "  \"\"\"\n",
        "  inputs:\n",
        "    Z (ndarray (m, n)): 2D array of raw output from weights and biases\n",
        "\n",
        "  outputs:\n",
        "    A (ndarray (m, n)): 2D array of only positive values in Z\n",
        "  \"\"\"\n",
        "\n",
        "  A = np.maximum(Z, 0)\n",
        "\n",
        "  return A"
      ],
      "metadata": {
        "id": "eVEtA4T6T2LA"
      },
      "execution_count": null,
      "outputs": []
    },
    {
      "cell_type": "code",
      "source": [
        "def relu_deriv(Z):\n",
        "  \"\"\"\n",
        "  inputs:\n",
        "    Z (ndarray (m, n)): 2D array of raw output from weights and biases\n",
        "\n",
        "  outputs:\n",
        "    z_deriv (ndarray (m, n)): 2D array w/value 1 where Z >= 0 and value 0 where z < 0\n",
        "  \"\"\"\n",
        "\n",
        "  Z_deriv = (Z >= 0)\n",
        "\n",
        "  return Z_deriv"
      ],
      "metadata": {
        "id": "ETQfcGi-T2LL"
      },
      "execution_count": null,
      "outputs": []
    },
    {
      "cell_type": "code",
      "source": [
        "def softmax(Z):\n",
        "  \"\"\"\n",
        "  inputs:\n",
        "    Z (ndarray (m, n)): 2D array of raw output from weights and biases\n",
        "\n",
        "  outputs:\n",
        "    A (ndarray (m, n)): 2D array where each value is e^z / sum(e^z of the row)\n",
        "\n",
        "  notes:\n",
        "    transposed twice because of trouble with numpy broadcasting\n",
        "  \"\"\"\n",
        "\n",
        "  Z = Z.T\n",
        "  A = np.exp(Z) / sum(np.exp(Z))\n",
        "  A = A.T\n",
        "\n",
        "  return A"
      ],
      "metadata": {
        "id": "mkGVlbGLT2LL"
      },
      "execution_count": null,
      "outputs": []
    },
    {
      "cell_type": "code",
      "source": [
        "def one_hot(Y):\n",
        "  \"\"\"\n",
        "  inputs:\n",
        "    Y (ndarray (m, 1)): column matrix of true labels\n",
        "\n",
        "  outputs:\n",
        "    one_hot_y (ndarray (m, 10)): 2D matrix where each row is an example, the column with a 1 is the label, and the rest are 0's\n",
        "  \"\"\"\n",
        "\n",
        "  one_hot_Y = np.zeros((Y.size, np.max(Y) + 1)) # zero matrix with rows same as Y, (9+1) = 10 columns\n",
        "  one_hot_Y[np.arange(Y.size), Y] = 1 # for each row, set a 1 at the index with the label\n",
        "\n",
        "  return one_hot_Y"
      ],
      "metadata": {
        "id": "e-b6CXaPT2LM"
      },
      "execution_count": null,
      "outputs": []
    },
    {
      "cell_type": "code",
      "source": [
        "def init_network():\n",
        "  \"\"\"\n",
        "  inputs:\n",
        "\n",
        "  outputs:\n",
        "    W1 (ndarray (784, 16)): matrix of weights for transformation from hidden layer to layer 1\n",
        "    B1 (ndarray (1, 16)): column matrix of biases for transformation from hidden layer to layer 1\n",
        "    W2 (ndarray (16, 10)): matrix of weights for transformation from layer 1 to layer 2\n",
        "    B2 (ndarray (1, 10)): column matrix of biases for transformation from layer 1 to layer 2\n",
        "  \"\"\"\n",
        "\n",
        "  W1 = np.random.rand(784, 16) - 0.5 # create random weight matrices corresponding to layers [784, 16, 10]\n",
        "  W2 = np.random.rand(16,10) - 0.5\n",
        "\n",
        "  B1 = np.random.rand(1, 16) - 0.5 # create random bias matrices corresponding to layers [784, 16, 10]\n",
        "  B2 = np.random.rand(1, 10) - 0.5\n",
        "\n",
        "  return W1, W2, B1, B2"
      ],
      "metadata": {
        "id": "Vmj6H1ga66so"
      },
      "execution_count": null,
      "outputs": []
    },
    {
      "cell_type": "code",
      "source": [
        "def forward_prop(X, W1, W2, B1, B2):\n",
        "  \"\"\"\n",
        "  inputs:\n",
        "    X (ndarray (m, 784)): each row is a training example, each column is a brightness intensity that makes up the image\n",
        "    W1 (ndarray (784, 16)): matrix of weights for transformation from hidden layer to layer 1\n",
        "    B1 (ndarray (1, 16)): column matrix of biases for transformatino from hidden layer to layer 1\n",
        "    W2 (ndarray (16, 10)): matrix of weights for transformation from layer 1 to layer 2\n",
        "    B2 (ndarray (1, 10)): column matrix of biases for transformatino from layer 1 to layer 2\n",
        "\n",
        "  outputs:\n",
        "    Z1 (ndarray (m, 16)): each row is a training example after first transformation and before activation, each column is a neuron in the first layer\n",
        "    A1 (ndarray (m, 16)): each row is a training example after first transformation and activation, each column is a neuron in the first layer\n",
        "    Z2 (ndarray (m, 10)): each row is a training example after second transformation and before activation, each column is a neuron in the second (output) layer\n",
        "    A2 (ndarray (m, 10)): each row is a training example after second transformation and activation, each column is a neuron in the second (output) layer\n",
        "  \"\"\"\n",
        "\n",
        "  Z1 = X.dot(W1) + B1 # apply forward prop formula to compute layer values before activation\n",
        "  A1 = relu(Z1) # apply relu activation to first layer\n",
        "\n",
        "  Z2 = A1.dot(W2) + B2\n",
        "  A2 = softmax(Z2) # apply softmax activation to second layer\n",
        "\n",
        "  return A1, A2, Z1, Z2"
      ],
      "metadata": {
        "id": "bm6QQ29X-pPK"
      },
      "execution_count": null,
      "outputs": []
    },
    {
      "cell_type": "code",
      "source": [
        "def back_prop(X, Y, A1, A2, Z1, Z2, W1, W2, B1, B2):\n",
        "  \"\"\"\n",
        "  inputs:\n",
        "    X (ndarray (m, 784)): each row is a training example, each column is a brightness intensity that makes up the image\n",
        "    Y (ndarray (m, 1)): column matrix of true labels\n",
        "    Z1 (ndarray (m, 16)): each row is a training example after first transformation and before activation, each column is a neuron in the first layer\n",
        "    A1 (ndarray (m, 16)): each row is a training example after first transformation and activation, each column is a neuron in the first layer\n",
        "    Z2 (ndarray (m, 10)): each row is a training example after second transformation and before activation, each column is a neuron in the second (output) layer\n",
        "    A2 (ndarray (m, 10)): each row is a training example after second transformation and activation, each column is a neuron in the second (output) layer\n",
        "    W1 (ndarray (784, 16)): matrix of weights for transformation from hidden layer to layer 1\n",
        "    B1 (ndarray (1, 16)): column matrix of biases for transformation from hidden layer to layer 1\n",
        "    W2 (ndarray (16, 10)): matrix of weights for transformation from layer 1 to layer 2\n",
        "    B2 (ndarray (1, 10)): column matrix of biases for transformation from layer 1 to layer 2\n",
        "\n",
        "  outputs:\n",
        "    dW1 (ndarray (784, 16)): adjustment weight matricex for W1\n",
        "    dB1 (ndarray (1, 16)): adjustment bias matrices for B1\n",
        "    dW2 (ndarray (16, 10)): adjustment weight matricex for W2\n",
        "    dB2 (ndarray (1, 10)): adjustment bias matrices for B2\n",
        "  \"\"\"\n",
        "\n",
        "  one_hot_Y = one_hot(Y) # encoding is done here in case you choose to shuffle the data/use batch Grad Desc for each iteration\n",
        "\n",
        "  dZ2 = A2 - one_hot_Y # final layer dW and db have unique formula b/c softmax activation instead of relu\n",
        "  dW2 = (1 / m) * ((A1.T).dot(dZ2))\n",
        "  dB2 = (1 / m) * np.sum(dZ2, axis = 0)\n",
        "\n",
        "  dZ1 = dZ2.dot(W2.T) * relu_deriv(Z1) # apply regular back prop formula\n",
        "  dW1 = (1 / m) * (X.T).dot(dZ1)\n",
        "  dB1 = (1 / m) * np.sum(dZ1, axis = 0)\n",
        "\n",
        "  return dW1, dW2, dB1, dB2"
      ],
      "metadata": {
        "id": "npieaOETALZG"
      },
      "execution_count": null,
      "outputs": []
    },
    {
      "cell_type": "code",
      "source": [
        "def update_params(W1, B1, W2, B2, dW1, dB1, dW2, dB2, alpha):\n",
        "  \"\"\"\n",
        "  inputs:\n",
        "    W1 (ndarray (784, 16)): matrix of weights for transformation from hidden layer to layer 1\n",
        "    B1 (ndarray (1, 16)): column matrix of biases for transformation from hidden layer to layer 1\n",
        "    W2 (ndarray (16, 10)): matrix of weights for transformation from layer 1 to layer 2\n",
        "    B2 (ndarray (1, 10)): column matrix of biases for transformation from layer 1 to layer 2\n",
        "    dW1 (ndarray (784, 16)): adjustment weight matricex for W1\n",
        "    dB1 (ndarray (1, 16)): adjustment bias matrices for B1\n",
        "    dW2 (ndarray (16, 10)): adjustment weight matricex for W2\n",
        "    dB2 (ndarray (1, 10)): adjustment bias matrices for B2\n",
        "    alpha (float): learning rate\n",
        "\n",
        "  outputs:\n",
        "    W1 (ndarray (784, 16)): matrix of weights for transformation from hidden layer to layer 1 after updating\n",
        "    B1 (ndarray (1, 16)): column matrix of biases for transformation from hidden layer to layer 1 after updating\n",
        "    W2 (ndarray (16, 10)): matrix of weights for transformation from layer 1 to layer 2 after updating\n",
        "    B2 (ndarray (1, 10)): column matrix of biases for transformation from layer 1 to layer 2 after updating\n",
        "  \"\"\"\n",
        "\n",
        "  W1 = W1 - alpha * dW1 # update each weight and bias matrix\n",
        "  B1 = B1 - alpha * dB1\n",
        "  W2 = W2 - alpha * dW2\n",
        "  B2 = B2 - alpha * dB2\n",
        "\n",
        "  return W1, B1, W2, B2"
      ],
      "metadata": {
        "id": "8n1HHwMIBlWK"
      },
      "execution_count": null,
      "outputs": []
    },
    {
      "cell_type": "code",
      "source": [
        "def get_predictions(A2):\n",
        "  \"\"\"\n",
        "  inputs:\n",
        "    A2 (ndarray (m, 10)): last layer values after softmax\n",
        "\n",
        "  outputs:\n",
        "    predictions (ndarray (m, 1)): column matrix with predictions of label for each X\n",
        "  \"\"\"\n",
        "\n",
        "  predictions = np.argmax(A2, axis = 1) # softmax returns probability of being a value, so highest probability is the label give by NN\n",
        "\n",
        "  return predictions"
      ],
      "metadata": {
        "id": "ihEWzIcUNEye"
      },
      "execution_count": null,
      "outputs": []
    },
    {
      "cell_type": "code",
      "source": [
        "def get_accuracy(predictions, Y):\n",
        "  \"\"\"\n",
        "  inputs:\n",
        "    predictions (ndarray (m, 1)): column matrix with predictions of label for each X\n",
        "    Y (ndarray (m, 1)): column matrix of true labels\n",
        "\n",
        "  outputs:\n",
        "    accuracy (float): number correct predictions / number total predictions\n",
        "  \"\"\"\n",
        "\n",
        "  accuracy = np.sum(predictions == Y) / Y.size\n",
        "\n",
        "  return accuracy"
      ],
      "metadata": {
        "id": "TIt6DP1FFp-o"
      },
      "execution_count": null,
      "outputs": []
    },
    {
      "cell_type": "code",
      "source": [
        "def gradient_descent(X, Y, alpha, iterations):\n",
        "  \"\"\"\n",
        "  inputs:\n",
        "    X (ndarray (m, 784)): each row is a training example, each column is a brightness intensity that makes up the image\n",
        "    Y (ndarray (m, 1)): column matrix of true labels\n",
        "    alpha (float): learning rate\n",
        "    iterations (int): number of times to run gradient descent over all of the data\n",
        "\n",
        "  outputs:\n",
        "    W1 (ndarray (784, 16)): trained matrix of weights for transformation from hidden layer to layer 1\n",
        "    B1 (ndarray (1, 16)): trained column matrix of biases for transformation from hidden layer to layer 1\n",
        "    W2 (ndarray (16, 10)): trained matrix of weights for transformation from layer 1 to layer 2\n",
        "    B2 (ndarray (1, 10)): trained column matrix of biases for transformation from layer 1 to layer 2\n",
        "    accuracy_list (list (1, iterations)): record of accuracy score for each iteration\n",
        "    iterations_list (list (1, iterations)): record of iteration number for each iterations (list for consistency, np.arange would work fine)\n",
        "  \"\"\"\n",
        "\n",
        "  W1, W2, B1, B2 = init_network()\n",
        "  accuracy_list = [] # record accuracy v.s. iterations for visualizing data\n",
        "  iterations_list = []\n",
        "\n",
        "  for i in range(iterations+1):\n",
        "    A1, A2, Z1, Z2 = forward_prop(X, W1, W2, B1, B2) # run gradient descent algorithm\n",
        "    dW1, dW2, dB1, dB2 = back_prop(X, Y, A1, A2, Z1, Z2, W1, W2, B1, B2)\n",
        "    W1, B1, W2, B2 = update_params(W1, B1, W2, B2, dW1, dB1, dW2, dB2, alpha)\n",
        "\n",
        "    predictions = get_predictions(A2) # update accuracy and iterations lists\n",
        "    accuracy = get_accuracy(predictions, Y)\n",
        "    accuracy_list.append(accuracy)\n",
        "    iterations_list.append(i)\n",
        "\n",
        "    if i % 50 == 0: # visualize training while progress is continuing\n",
        "      print(\"Iteration: \", i)\n",
        "      print(predictions, Y)\n",
        "      print(accuracy)\n",
        "\n",
        "  return W1, B1, W2, B2, accuracy_list, iterations_list"
      ],
      "metadata": {
        "id": "6nMmqUAPDONG"
      },
      "execution_count": null,
      "outputs": []
    },
    {
      "cell_type": "code",
      "source": [
        "start = time.time()\n",
        "W1, B1, W2, B2, accuracy_list, iterations_list = gradient_descent(X_train, Y_train, 0.1, 500)\n",
        "print('total time taken to train: ', (time.time() - start))"
      ],
      "metadata": {
        "colab": {
          "base_uri": "https://localhost:8080/"
        },
        "id": "Y0hpVwkKK5WP",
        "outputId": "281ef0aa-3592-4d12-ddc1-ccdb1885819b"
      },
      "execution_count": null,
      "outputs": [
        {
          "output_type": "stream",
          "name": "stdout",
          "text": [
            "Iteration:  0\n",
            "[0 0 0 ... 0 9 6] [8 0 0 ... 2 8 1]\n",
            "0.13734131086967577\n",
            "Iteration:  50\n",
            "[0 0 8 ... 2 5 1] [8 0 0 ... 2 8 1]\n",
            "0.46107561145104153\n",
            "Iteration:  100\n",
            "[8 0 8 ... 2 5 1] [8 0 0 ... 2 8 1]\n",
            "0.6572484279394566\n",
            "Iteration:  150\n",
            "[8 0 0 ... 2 8 1] [8 0 0 ... 2 8 1]\n",
            "0.7439448126239427\n",
            "Iteration:  200\n",
            "[8 0 0 ... 2 8 1] [8 0 0 ... 2 8 1]\n",
            "0.7889794742283768\n",
            "Iteration:  250\n",
            "[8 0 0 ... 2 8 1] [8 0 0 ... 2 8 1]\n",
            "0.8156917913862947\n",
            "Iteration:  300\n",
            "[8 0 0 ... 2 8 1] [8 0 0 ... 2 8 1]\n",
            "0.8321157985728571\n",
            "Iteration:  350\n",
            "[8 0 0 ... 2 8 1] [8 0 0 ... 2 8 1]\n",
            "0.8430651366972322\n",
            "Iteration:  400\n",
            "[8 0 0 ... 2 8 1] [8 0 0 ... 2 8 1]\n",
            "0.8531670028305565\n",
            "Iteration:  450\n",
            "[8 0 0 ... 2 8 1] [8 0 0 ... 2 8 1]\n",
            "0.8603705147544873\n",
            "Iteration:  500\n",
            "[8 0 0 ... 2 8 1] [8 0 0 ... 2 8 1]\n",
            "0.865963829895422\n"
          ]
        }
      ]
    },
    {
      "cell_type": "code",
      "source": [
        "plt.style.use('dark_background')  # Predefined style for black background\n",
        "fig, ax = plt.subplots(1, 1, figsize = (8,6)) # define plot and set figure size\n",
        "ax.plot(iterations_list, accuracy_list, color='cyan')\n",
        "ax.set_ylim(0., 1.) # Set plot dimension\n",
        "ax.set_xlim(0, 1000)\n",
        "ax.set_yticks(np.arange(0, 1.1, 0.1))  # Set y-axis ticks at every 0.1 interval to 1.0\n",
        "ax.set_xticks(np.arange(0, 1001, 100)) # Set x-axis ticks at every 100 interval to 1000\n",
        "ax.set_ylabel('Accuracy', fontsize = 15)\n",
        "ax.set_xlabel('Iteration', fontsize = 15)\n",
        "ax.set_title('MNIST Neural Network Training Progress')\n",
        "plt.show()"
      ],
      "metadata": {
        "colab": {
          "base_uri": "https://localhost:8080/",
          "height": 526
        },
        "id": "PvKPEJt65BdE",
        "outputId": "c713e07b-aecc-4d75-aaa2-231e10239774"
      },
      "execution_count": null,
      "outputs": [
        {
          "output_type": "display_data",
          "data": {
            "text/plain": [
              "<Figure size 800x600 with 1 Axes>"
            ],
            "image/png": "[encoded data removed]"
          },
          "metadata": {}
        }
      ]
    },
    {
      "cell_type": "code",
      "source": [
        "A1, A2, Z1, Z2 = forward_prop(X_test, W1, W2, B1, B2) # apply trained weights and biases on test data\n",
        "predictions = get_predictions(A2)\n",
        "accuracy = get_accuracy(predictions, Y_test)\n",
        "print(predictions[:5], Y_test[:5])\n",
        "print(accuracy)"
      ],
      "metadata": {
        "colab": {
          "base_uri": "https://localhost:8080/"
        },
        "id": "yPUAHBvdPEwi",
        "outputId": "675e3ef2-6b34-46c9-bb49-260c02fa3276"
      },
      "execution_count": null,
      "outputs": [
        {
          "output_type": "stream",
          "name": "stdout",
          "text": [
            "[6 6 0 4 7] [0 6 0 2 7]\n",
            "0.87\n"
          ]
        }
      ]
    },
    {
      "cell_type": "code",
      "source": [
        "img = np.reshape(X_test[0], (28,28)) # visualize results\n",
        "plt.imshow(img, cmap = 'gray')\n",
        "print('prediction: ', predictions[0], 'actual: ', Y_test[0])"
      ],
      "metadata": {
        "colab": {
          "base_uri": "https://localhost:8080/",
          "height": 448
        },
        "id": "I14fTum9R7Z5",
        "outputId": "ead45a49-e1a2-407e-bc35-c2fe881aa34b"
      },
      "execution_count": null,
      "outputs": [
        {
          "output_type": "stream",
          "name": "stdout",
          "text": [
            "prediction:  6 actual:  0\n"
          ]
        },
        {
          "output_type": "display_data",
          "data": {
            "text/plain": [
              "<Figure size 640x480 with 1 Axes>"
            ],
            "image/png": "[encoded data removed]"
          },
          "metadata": {}
        }
      ]
    },
    {
      "cell_type": "code",
      "source": [],
      "metadata": {
        "id": "b3QwGL1DTWb9"
      },
      "execution_count": null,
      "outputs": []
    }
  ]
}