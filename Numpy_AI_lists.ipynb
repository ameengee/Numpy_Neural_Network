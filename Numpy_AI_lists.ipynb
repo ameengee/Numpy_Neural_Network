{
  "nbformat": 4,
  "nbformat_minor": 0,
  "metadata": {
    "colab": {
      "provenance": []
    },
    "kernelspec": {
      "name": "python3",
      "display_name": "Python 3"
    },
    "language_info": {
      "name": "python"
    }
  },
  "cells": [
    {
      "cell_type": "code",
      "execution_count": null,
      "metadata": {
        "id": "KhcKJNS-LaqO"
      },
      "outputs": [],
      "source": [
        "import numpy as np\n",
        "import pandas as pd\n",
        "import time\n",
        "import matplotlib.pyplot as plt"
      ]
    },
    {
      "cell_type": "code",
      "source": [
        "data = pd.read_csv('/content/mnist_train.csv')\n",
        "data = np.array(data)"
      ],
      "metadata": {
        "id": "oPvpd6eH7PAo"
      },
      "execution_count": null,
      "outputs": []
    },
    {
      "cell_type": "code",
      "source": [
        "data = np.array(data)\n",
        "m, _ = data.shape\n",
        "np.random.shuffle(data) # shuffle data\n",
        "\n",
        "X_test = data[:1000, 1:] / 255. # split data b/w train and test, and rescale\n",
        "Y_test = data[:1000, 0]\n",
        "\n",
        "X_train = data[1000:m, 1:] / 255.\n",
        "Y_train = data[1000:m, 0]"
      ],
      "metadata": {
        "id": "ThRN220qiX6l"
      },
      "execution_count": null,
      "outputs": []
    },
    {
      "cell_type": "code",
      "source": [
        "img = np.reshape(X_train[1], (28,28)) # visualize a data point and its label\n",
        "plt.imshow(img, cmap = 'gray')\n",
        "print(Y_train[1])"
      ],
      "metadata": {
        "id": "rFuLbixLjipg",
        "colab": {
          "base_uri": "https://localhost:8080/",
          "height": 448
        },
        "outputId": "981e9a95-4926-4987-8b8e-e7da70b1c670"
      },
      "execution_count": null,
      "outputs": [
        {
          "output_type": "stream",
          "name": "stdout",
          "text": [
            "6\n"
          ]
        },
        {
          "output_type": "display_data",
          "data": {
            "text/plain": [
              "<Figure size 640x480 with 1 Axes>"
            ],
            "image/png": "[encoded data removed]"
          },
          "metadata": {}
        }
      ]
    },
    {
      "cell_type": "code",
      "source": [
        "Y_train"
      ],
      "metadata": {
        "id": "WioS0aeujOrT",
        "colab": {
          "base_uri": "https://localhost:8080/"
        },
        "outputId": "344cd29c-100f-4ca3-849a-fd1cd569bca7"
      },
      "execution_count": null,
      "outputs": [
        {
          "output_type": "execute_result",
          "data": {
            "text/plain": [
              "array([4, 6, 7, ..., 1, 8, 7])"
            ]
          },
          "metadata": {},
          "execution_count": 6
        }
      ]
    },
    {
      "cell_type": "code",
      "source": [
        "def relu(Z):\n",
        "  \"\"\"\n",
        "  inputs:\n",
        "    Z (ndarray (m, n)): 2D array of raw output from weights and biases\n",
        "\n",
        "  outputs:\n",
        "    A (ndarray (m, n)): 2D array of only positive values in Z\n",
        "  \"\"\"\n",
        "\n",
        "  A = np.maximum(Z, 0)\n",
        "\n",
        "  return A"
      ],
      "metadata": {
        "id": "xBu1MVtQ7amF"
      },
      "execution_count": null,
      "outputs": []
    },
    {
      "cell_type": "code",
      "source": [
        "def relu_deriv(Z):\n",
        "  \"\"\"\n",
        "  inputs:\n",
        "    Z (ndarray (m, n)): 2D array of raw output from weights and biases\n",
        "\n",
        "  outputs:\n",
        "    z_deriv (ndarray (m, n)): 2D array w/value 1 where Z >= 0 and value 0 where z < 0\n",
        "  \"\"\"\n",
        "\n",
        "  Z_deriv = (Z >= 0)\n",
        "\n",
        "  return Z_deriv"
      ],
      "metadata": {
        "id": "WUDwRGJv62bV"
      },
      "execution_count": null,
      "outputs": []
    },
    {
      "cell_type": "code",
      "source": [
        "def softmax(Z):\n",
        "  \"\"\"\n",
        "  inputs:\n",
        "    Z (ndarray (m, n)): 2D array of raw output from weights and biases\n",
        "\n",
        "  outputs:\n",
        "    A (ndarray (m, n)): 2D array where each value is e^z / sum(e^z of the row)\n",
        "\n",
        "  notes:\n",
        "    transposed twice because of trouble with numpy broadcasting\n",
        "  \"\"\"\n",
        "\n",
        "  Z = Z.T\n",
        "  A = np.exp(Z) / sum(np.exp(Z))\n",
        "  A = A.T\n",
        "\n",
        "  return A"
      ],
      "metadata": {
        "id": "O6fhRgJi_xvf"
      },
      "execution_count": null,
      "outputs": []
    },
    {
      "cell_type": "code",
      "source": [
        "def one_hot(Y):\n",
        "  \"\"\"\n",
        "  inputs:\n",
        "    Y (ndarray (m, 1)): column matrix of true labels\n",
        "\n",
        "  outputs:\n",
        "    one_hot_y (ndarray (m, 10)): 2D matrix where each row is an example, the column with a 1 is the label, and the rest are 0's\n",
        "  \"\"\"\n",
        "\n",
        "  one_hot_Y = np.zeros((Y.size, np.max(Y) + 1)) # zero matrix with rows same as Y, (9+1) = 10 columns\n",
        "  one_hot_Y[np.arange(Y.size), Y] = 1 # for each row, set a 1 at the index with the label\n",
        "\n",
        "  return one_hot_Y"
      ],
      "metadata": {
        "id": "xHshpC5eLHcz"
      },
      "execution_count": null,
      "outputs": []
    },
    {
      "cell_type": "code",
      "source": [
        "def init_network():\n",
        "  \"\"\"\n",
        "  inputs:\n",
        "\n",
        "  outputs:\n",
        "    W_list (list (1, num_layers)): List of weight matrices, each index is a 2D matrix containing all weights in a layer\n",
        "    b_list (list (1, num_layers-1)): List of bias matrices, each index is a row matrix containing all biases in a layer\n",
        "  \"\"\"\n",
        "\n",
        "  W1 = np.random.rand(784, 16) - 0.5 # create random weight matrices corresponding to layers [784, 16, 16, 10]\n",
        "  W2 = np.random.rand(16,16) - 0.5\n",
        "  W3 = np.random.rand(16,10) - 0.5\n",
        "  W_list = [W1, W2, W3] # add weight matrices to list\n",
        "\n",
        "  b1 = np.random.rand(1, 16) - 0.5 # create random bias matrices corresponding to layers [784, 16, 16, 10]\n",
        "  b2 = np.random.rand(1, 16) - 0.5\n",
        "  b3 = np.random.rand(1, 10) - 0.5\n",
        "  b_list = [b1, b2, b3] # add bias matrices to list\n",
        "\n",
        "  return W_list, b_list"
      ],
      "metadata": {
        "id": "Vmj6H1ga66so"
      },
      "execution_count": null,
      "outputs": []
    },
    {
      "cell_type": "code",
      "source": [
        "def forward_prop(X, W_list, b_list):\n",
        "  \"\"\"\n",
        "  inputs:\n",
        "    X (ndarray (m, 784)): each row is a training example, each column is a brightness intensity that makes up the image\n",
        "    W_list (list (1, num_layers)): List of weight matrices, each index is a 2D matrix containing all weights in a layer\n",
        "    b_list (list (1, num_layers-1)): List of bias matrices, each index is a row matrix containing all biases in a layer\n",
        "\n",
        "  outputs:\n",
        "    Z_list ((list (1, num_layers))): list of result matrices before activation, each is a 2D matrix w/m rows and num_units cols\n",
        "    A_list ((list (1, num_layers))): list of result matrices after activation, each is a 2D matrix w/m rows and num_units cols\n",
        "  \"\"\"\n",
        "\n",
        "  Z1 = X.dot(W_list[0]) + b_list[0] # apply forward prop formula to compute layer values before activation\n",
        "  A1 = relu(Z1) # apply relu activation to first 2 layers\n",
        "\n",
        "  Z2 = A1.dot(W_list[1]) + b_list[1]\n",
        "  A2 = relu(Z2)\n",
        "\n",
        "  Z3 = A2.dot(W_list[2]) + b_list[2]\n",
        "  A3 = softmax(Z3) # apply softmax activation to last layer\n",
        "\n",
        "  A_list = [X, A1, A2, A3] # update network lists, including input values in A_list\n",
        "  Z_list = [Z1, Z2, Z3]\n",
        "\n",
        "  return A_list, Z_list"
      ],
      "metadata": {
        "id": "bm6QQ29X-pPK"
      },
      "execution_count": null,
      "outputs": []
    },
    {
      "cell_type": "code",
      "source": [
        "def back_prop(Y, A_list, Z_list, W_list, b_list):\n",
        "  \"\"\"\n",
        "  inputs:\n",
        "    Y (ndarray (m, 1)): column matrix of true labels\n",
        "    Z_list ((list (1, num_layers))): list of result matrices before activation, each is a 2D matrix w/m rows and num_units cols\n",
        "    A_list ((list (1, num_layers))): list of result matrices after activation, each is a 2D matrix w/m rows and num_units cols\n",
        "    W_list (list (1, num_layers)): List of weight matrices, each index is a 2D matrix containing all weights in a layer\n",
        "    b_list (list (1, num_layers-1)): List of bias matrices, each index is a row matrix containing all biases in a layer\n",
        "\n",
        "  outputs:\n",
        "    dW_list (list (1, num_layers)): list of weight adjustment matrices, each index is a 2D matrix with weight adjustments for each weight\n",
        "    db_list (list (1, num_layers-1)): list of bias adjustment matrices, each index is a row matrix with bias adjustments for each bias\n",
        "  \"\"\"\n",
        "\n",
        "  one_hot_Y = one_hot(Y) # encoding is done here in case you choose to shuffle the data/use batch Grad Desc for each iteration\n",
        "\n",
        "  dZ3 = A_list[-1] - one_hot_Y # final layer dW and db have unique formula b/c softmax activation instead of relu\n",
        "  dW3 = (1 / m) * ((A_list[-2].T).dot(dZ3))\n",
        "  db3 = (1 / m) * np.sum(dZ3, axis = 0)\n",
        "\n",
        "  dZ2 = dZ3.dot(W_list[-1].T) * relu_deriv(Z_list[-2]) # apply back prop formula with indexing\n",
        "  dW2 = (1 / m) * (A_list[-3].T).dot(dZ2)\n",
        "  db2 = (1 / m) * np.sum(dZ2, axis = 0)\n",
        "\n",
        "  dZ1 = dZ2.dot(W_list[-2].T) * relu_deriv(Z_list[-3])\n",
        "  dW1 = (1 / m) * (A_list[-4].T).dot(dZ1)\n",
        "  db1 = (1 / m) * np.sum(dZ1, axis = 0)\n",
        "\n",
        "  dW_list = [dW1, dW2, dW3] # add adjustment matrices to the list from the front to keep with the format of W_list\n",
        "  db_list = [db1, db2, db3]\n",
        "\n",
        "  return dW_list, db_list"
      ],
      "metadata": {
        "id": "npieaOETALZG"
      },
      "execution_count": null,
      "outputs": []
    },
    {
      "cell_type": "code",
      "source": [
        "def update_params(W_list, b_list, dW_list, db_list, alpha):\n",
        "  \"\"\"\n",
        "  inputs:\n",
        "    W_list (list (1, num_layers)): List of weight matrices, each index is a 2D matrix containing all weights in a layer\n",
        "    b_list (list (1, num_layers-1)): List of bias matrices, each index is a row matrix containing all biases in a layer\n",
        "    dW_list (list (1, num_layers)): list of weight adjustment matrices, each index is a 2D matrix with weight adjustments for each weight\n",
        "    db_list (list (1, num_layers-1)): list of bias adjustment matrices, each index is a row matrix with bias adjustments for each bias\n",
        "    alpha (float): learning rate\n",
        "\n",
        "  outputs:\n",
        "    W_list (list (1, num_layers)): List of weight matrices, each index is a 2D matrix containing all weights in a layer\n",
        "    b_list (list (1, num_layers-1)): List of bias matrices, each index is a row matrix containing all biases in a layer\n",
        "  \"\"\"\n",
        "\n",
        "  W_list = [w - alpha*dw for w, dw in zip(W_list, dW_list)] # use list comprehension to update the W and b matrices\n",
        "  b_list = [b - alpha*db for b, db in zip(b_list, db_list)]\n",
        "\n",
        "  return W_list, b_list"
      ],
      "metadata": {
        "id": "8n1HHwMIBlWK"
      },
      "execution_count": null,
      "outputs": []
    },
    {
      "cell_type": "code",
      "source": [
        "def get_predictions(A3):\n",
        "  \"\"\"\n",
        "  inputs:\n",
        "    A3 (ndarray (m, 10)): last layer values after softmax\n",
        "\n",
        "  outputs:\n",
        "    predictions (ndarray (m, 1)): column matrix with predictions of label for each X\n",
        "  \"\"\"\n",
        "\n",
        "  predictions = np.argmax(A3, axis = 1) # softmax returns probability of being a value, so highest probability is the label give by NN\n",
        "\n",
        "  return predictions"
      ],
      "metadata": {
        "id": "ihEWzIcUNEye"
      },
      "execution_count": null,
      "outputs": []
    },
    {
      "cell_type": "code",
      "source": [
        "def get_accuracy(predictions, Y):\n",
        "  \"\"\"\n",
        "  inputs:\n",
        "    predictions (ndarray (m, 1)): column matrix with predictions of label for each X\n",
        "    Y (ndarray (m, 1)): column matrix of true labels\n",
        "\n",
        "  outputs:\n",
        "    accuracy (float): number correct predictions / number total predictions\n",
        "  \"\"\"\n",
        "\n",
        "  accuracy = np.sum(predictions == Y) / Y.size\n",
        "\n",
        "  return accuracy"
      ],
      "metadata": {
        "id": "TIt6DP1FFp-o"
      },
      "execution_count": null,
      "outputs": []
    },
    {
      "cell_type": "code",
      "source": [
        "def gradient_descent(X, Y, units_list, alpha, iterations, resume = False, W_list = 0, b_list = 0):\n",
        "  \"\"\"\n",
        "  inputs:\n",
        "    X (ndarray (m, 784)): each row is a training example, each column is a brightness intensity that makes up the image\n",
        "    Y (ndarray (m, 1)): column matrix of true labels\n",
        "    units_list (list (1, num_layers)): number of units in each layer of the neural network, starting with input layer\n",
        "    alpha (float): learning rate\n",
        "    iterations (int): number of times to run gradient descent over all of the data\n",
        "    resume (bool): allows continuing gradient descent using previously trained weights and biases\n",
        "    W_list (list (1, num_layers)): same as before, but set to 0 as default to optionally allow using previously trained weights\n",
        "    b_list (list (1, num_layers-1)): same as before, but set to 0 as default to optionally allow using previously trained biases\n",
        "\n",
        "  outputs:\n",
        "    W_list (list (1, num_layers)): List of weight matrices, each index is a 2D matrix containing all weights in a layer\n",
        "    b_list (list (1, num_layers-1)): List of bias matrices, each index is a row matrix containing all biases in a layer\n",
        "    accuracy_list (list (1, iterations)): record of accuracy score for each iteration\n",
        "    iterations_list (list (1, iterations)): record of iteration number for each iterations (list for consistency, np.arange would work fine)\n",
        "  \"\"\"\n",
        "\n",
        "  lists_given = isinstance(W_list, list) and isinstance(b_list, list)\n",
        "  if (not resume) and (not lists_given):\n",
        "    W_list, b_list = init_network(units_list) # load trained weights and baises if resume is true and W_list/b_list are given\n",
        "\n",
        "  accuracy_list = [] # record accuracy v.s. iterations for visualizing data\n",
        "  iterations_list = []\n",
        "\n",
        "  for i in range(iterations+1):\n",
        "    A_list, Z_list = forward_prop(X, W_list, b_list) # run gradient descent algorithm\n",
        "    dW_list, db_list = back_prop(Y, A_list, Z_list, W_list, b_list)\n",
        "    W_list, b_list = update_params(W_list, b_list, dW_list, db_list, alpha)\n",
        "\n",
        "    predictions = get_predictions(A_list[-1]) # update accuracy and iterations lists\n",
        "    accuracy = get_accuracy(predictions, Y)\n",
        "    accuracy_list.append(accuracy)\n",
        "    iterations_list.append(i)\n",
        "\n",
        "    if i % 50 == 0: # visualize training while progress is continuing\n",
        "      print(\"Iteration: \", i)\n",
        "      print(predictions, Y)\n",
        "      print(accuracy)\n",
        "\n",
        "  return W_list, b_list, accuracy_list, iterations_list"
      ],
      "metadata": {
        "id": "6nMmqUAPDONG"
      },
      "execution_count": null,
      "outputs": []
    },
    {
      "cell_type": "code",
      "source": [
        "start = time.time()\n",
        "W_list, b_list, accuracy_list, iterations_list = gradient_descent(X_train, Y_train, 0.25, 1000)\n",
        "print('total time taken to train: ', (time.time() - start))"
      ],
      "metadata": {
        "colab": {
          "base_uri": "https://localhost:8080/"
        },
        "id": "Y0hpVwkKK5WP",
        "outputId": "8c4fc48d-12af-431f-f972-38f1601926d4"
      },
      "execution_count": null,
      "outputs": [
        {
          "output_type": "stream",
          "name": "stdout",
          "text": [
            "Iteration:  0\n",
            "[3 0 1 ... 0 1 0] [4 6 7 ... 1 8 7]\n",
            "0.06818759639993899\n",
            "Iteration:  50\n",
            "[7 6 9 ... 1 9 7] [4 6 7 ... 1 8 7]\n",
            "0.6460278987779454\n",
            "Iteration:  100\n",
            "[9 6 7 ... 1 9 7] [4 6 7 ... 1 8 7]\n",
            "0.7409447617756233\n",
            "Iteration:  150\n",
            "[9 6 7 ... 1 9 7] [4 6 7 ... 1 8 7]\n",
            "0.8166748588959135\n",
            "Iteration:  200\n",
            "[9 6 7 ... 1 9 7] [4 6 7 ... 1 8 7]\n",
            "0.8430142883777691\n",
            "Iteration:  250\n",
            "[9 6 7 ... 1 9 7] [4 6 7 ... 1 8 7]\n",
            "0.8617773182596316\n",
            "Iteration:  300\n",
            "[9 6 7 ... 1 8 7] [4 6 7 ... 1 8 7]\n",
            "0.8730656451804268\n",
            "Iteration:  350\n",
            "[9 6 7 ... 1 8 7] [4 6 7 ... 1 8 7]\n",
            "0.8822352921235953\n",
            "Iteration:  400\n",
            "[9 6 7 ... 1 8 7] [4 6 7 ... 1 8 7]\n",
            "0.8888625230936118\n",
            "Iteration:  450\n",
            "[9 6 7 ... 1 8 7] [4 6 7 ... 1 8 7]\n",
            "0.8954897540636282\n",
            "Iteration:  500\n",
            "[9 6 7 ... 1 8 7] [4 6 7 ... 1 8 7]\n",
            "0.900049153375481\n",
            "Iteration:  550\n",
            "[9 6 7 ... 1 8 7] [4 6 7 ... 1 8 7]\n",
            "0.9008118781674266\n",
            "Iteration:  600\n",
            "[9 6 7 ... 1 8 7] [4 6 7 ... 1 8 7]\n",
            "0.9076255529754742\n",
            "Iteration:  650\n",
            "[9 6 7 ... 1 8 7] [4 6 7 ... 1 8 7]\n",
            "0.9100323734300582\n",
            "Iteration:  700\n",
            "[9 6 7 ... 1 8 7] [4 6 7 ... 1 8 7]\n",
            "0.9113035814166341\n",
            "Iteration:  750\n",
            "[9 6 7 ... 1 8 7] [4 6 7 ... 1 8 7]\n",
            "0.9141680367463856\n",
            "Iteration:  800\n",
            "[9 6 7 ... 1 8 7] [4 6 7 ... 1 8 7]\n",
            "0.9174731775114833\n",
            "Iteration:  850\n",
            "[9 6 7 ... 1 8 7] [4 6 7 ... 1 8 7]\n",
            "0.9201342395633825\n",
            "Iteration:  900\n",
            "[9 6 7 ... 1 8 7] [4 6 7 ... 1 8 7]\n",
            "0.9218461329853048\n",
            "Iteration:  950\n",
            "[9 6 7 ... 1 8 7] [4 6 7 ... 1 8 7]\n",
            "0.9238292174443634\n",
            "Iteration:  1000\n",
            "[9 6 7 ... 1 8 7] [4 6 7 ... 1 8 7]\n",
            "0.9251682231902235\n"
          ]
        }
      ]
    },
    {
      "cell_type": "code",
      "source": [
        "plt.style.use('dark_background')  # Predefined style for black background\n",
        "fig, ax = plt.subplots(1, 1, figsize = (8,6)) # define plot and set figure size\n",
        "ax.plot(iterations_list, accuracy_list, color='cyan')\n",
        "ax.set_ylim(0., 1.) # Set plot dimension\n",
        "ax.set_xlim(0, 1000)\n",
        "ax.set_yticks(np.arange(0, 1.1, 0.1))  # Set y-axis ticks at every 0.1 interval to 1.0\n",
        "ax.set_xticks(np.arange(0, 1001, 100)) # Set x-axis ticks at every 100 interval to 1000\n",
        "ax.set_ylabel('Accuracy', fontsize = 15)\n",
        "ax.set_xlabel('Iteration', fontsize = 15)\n",
        "ax.set_title('MNIST Neural Network Training Progress')\n",
        "plt.show()"
      ],
      "metadata": {
        "colab": {
          "base_uri": "https://localhost:8080/",
          "height": 528
        },
        "id": "PvKPEJt65BdE",
        "outputId": "e8e0409d-8aa8-4a1f-e88b-56f11a9802a2"
      },
      "execution_count": null,
      "outputs": [
        {
          "output_type": "display_data",
          "data": {
            "text/plain": [
              "<Figure size 800x600 with 1 Axes>"
            ],
            "image/png": "[encoded data removed]"
          },
          "metadata": {}
        }
      ]
    },
    {
      "cell_type": "code",
      "source": [
        "A_list, Z_list = forward_prop(X_test, W_list, b_list) # apply trained weights and biases on test data\n",
        "predictions = get_predictions(A_list[-1])\n",
        "accuracy = get_accuracy(predictions, Y_test)\n",
        "print(predictions[:5], Y_test[:5])\n",
        "print(accuracy)"
      ],
      "metadata": {
        "colab": {
          "base_uri": "https://localhost:8080/"
        },
        "id": "yPUAHBvdPEwi",
        "outputId": "6cb3ab9f-09d2-45da-cb4d-5d3dee2f811b"
      },
      "execution_count": null,
      "outputs": [
        {
          "output_type": "stream",
          "name": "stdout",
          "text": [
            "[9 8 8 3 6] [9 8 8 3 6]\n",
            "0.923\n"
          ]
        }
      ]
    },
    {
      "cell_type": "code",
      "source": [
        "img = np.reshape(X_test[0], (28,28)) # visualize results\n",
        "plt.imshow(img, cmap = 'gray')\n",
        "print('prediction: ', predictions[0], 'actual: ', Y_test[0])"
      ],
      "metadata": {
        "colab": {
          "base_uri": "https://localhost:8080/",
          "height": 448
        },
        "id": "I14fTum9R7Z5",
        "outputId": "fa85d4f8-bf30-40a2-800c-cb4654b9cbc8"
      },
      "execution_count": null,
      "outputs": [
        {
          "output_type": "stream",
          "name": "stdout",
          "text": [
            "prediction:  9 actual:  9\n"
          ]
        },
        {
          "output_type": "display_data",
          "data": {
            "text/plain": [
              "<Figure size 640x480 with 1 Axes>"
            ],
            "image/png": "[encoded data removed]"
          },
          "metadata": {}
        }
      ]
    },
    {
      "cell_type": "code",
      "source": [],
      "metadata": {
        "id": "JVBOk-QLR-rC"
      },
      "execution_count": null,
      "outputs": []
    }
  ]
}