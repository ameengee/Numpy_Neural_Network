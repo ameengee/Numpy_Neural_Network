{
  "cells": [
    {
      "cell_type": "code",
      "execution_count": 10,
      "metadata": {
        "id": "KhcKJNS-LaqO"
      },
      "outputs": [],
      "source": [
        "import numpy as np\n",
        "import pandas as pd\n",
        "import time\n",
        "import matplotlib.pyplot as plt"
      ]
    },
    {
      "cell_type": "code",
      "execution_count": 11,
      "metadata": {
        "id": "oPvpd6eH7PAo"
      },
      "outputs": [],
      "source": [
        "data = pd.read_csv('/content/mnist_train.csv')\n",
        "data = np.array(data)"
      ]
    },
    {
      "cell_type": "code",
      "execution_count": 12,
      "metadata": {
        "id": "ThRN220qiX6l"
      },
      "outputs": [],
      "source": [
        "data = np.array(data)\n",
        "m, _ = data.shape\n",
        "np.random.shuffle(data) # shuffle data\n",
        "\n",
        "X_test = data[:1000, 1:] / 255. # split data b/w train and test, and rescale\n",
        "Y_test = data[:1000, 0]\n",
        "\n",
        "X_train = data[1000:m, 1:] / 255.\n",
        "Y_train = data[1000:m, 0]"
      ]
    },
    {
      "cell_type": "code",
      "execution_count": 13,
      "metadata": {
        "colab": {
          "base_uri": "https://localhost:8080/",
          "height": 448
        },
        "id": "rFuLbixLjipg",
        "outputId": "d959f3f7-ea14-4936-c58b-edd28a0e93e4"
      },
      "outputs": [
        {
          "output_type": "stream",
          "name": "stdout",
          "text": [
            "3\n"
          ]
        },
        {
          "output_type": "display_data",
          "data": {
            "text/plain": [
              "<Figure size 640x480 with 1 Axes>"
            ],
            "image/png": "[encoded data removed]"
          },
          "metadata": {}
        }
      ],
      "source": [
        "img = np.reshape(X_train[1], (28,28)) # visualize a data point and its label\n",
        "plt.imshow(img, cmap = 'gray')\n",
        "print(Y_train[1])"
      ]
    },
    {
      "cell_type": "code",
      "execution_count": 14,
      "metadata": {
        "colab": {
          "base_uri": "https://localhost:8080/"
        },
        "id": "WioS0aeujOrT",
        "outputId": "ee9a63a5-3003-42d6-a6a9-42f4f4ba995a"
      },
      "outputs": [
        {
          "output_type": "execute_result",
          "data": {
            "text/plain": [
              "array([0, 3, 6, ..., 9, 3, 0])"
            ]
          },
          "metadata": {},
          "execution_count": 14
        }
      ],
      "source": [
        "Y_train"
      ]
    },
    {
      "cell_type": "code",
      "execution_count": 35,
      "metadata": {
        "id": "xBu1MVtQ7amF"
      },
      "outputs": [],
      "source": [
        "def relu(Z):\n",
        "  \"\"\"\n",
        "  inputs:\n",
        "    Z (ndarray (m, n)): 2D array of raw output from weights and biases\n",
        "\n",
        "  outputs:\n",
        "    A (ndarray (m, n)): 2D array of only positive values in Z\n",
        "  \"\"\"\n",
        "\n",
        "  A = np.maximum(Z, 0)\n",
        "\n",
        "  return A"
      ]
    },
    {
      "cell_type": "code",
      "execution_count": 16,
      "metadata": {
        "id": "WUDwRGJv62bV"
      },
      "outputs": [],
      "source": [
        "def relu_deriv(Z):\n",
        "  \"\"\"\n",
        "  inputs:\n",
        "    Z (ndarray (m, n)): 2D array of raw output from weights and biases\n",
        "\n",
        "  outputs:\n",
        "    z_deriv (ndarray (m, n)): 2D array w/value 1 where Z >= 0 and value 0 where z < 0\n",
        "  \"\"\"\n",
        "\n",
        "  Z_deriv = (Z >= 0)\n",
        "\n",
        "  return Z_deriv"
      ]
    },
    {
      "cell_type": "code",
      "execution_count": 17,
      "metadata": {
        "id": "O6fhRgJi_xvf"
      },
      "outputs": [],
      "source": [
        "def softmax(Z):\n",
        "  \"\"\"\n",
        "  inputs:\n",
        "    Z (ndarray (m, n)): 2D array of raw output from weights and biases\n",
        "\n",
        "  outputs:\n",
        "    A (ndarray (m, n)): 2D array where each value is e^z / sum(e^z of the row)\n",
        "\n",
        "  notes:\n",
        "    transposed twice because of trouble with numpy broadcasting\n",
        "  \"\"\"\n",
        "\n",
        "  Z = Z.T\n",
        "  A = np.exp(Z) / sum(np.exp(Z))\n",
        "  A = A.T\n",
        "\n",
        "  return A"
      ]
    },
    {
      "cell_type": "code",
      "execution_count": 18,
      "metadata": {
        "id": "xHshpC5eLHcz"
      },
      "outputs": [],
      "source": [
        "def one_hot(Y):\n",
        "  \"\"\"\n",
        "  inputs:\n",
        "    Y (ndarray (m, 1)): column matrix of true labels\n",
        "\n",
        "  outputs:\n",
        "    one_hot_y (ndarray (m, 10)): 2D matrix where each row is an example, the column with a 1 is the label, and the rest are 0's\n",
        "  \"\"\"\n",
        "\n",
        "  one_hot_Y = np.zeros((Y.size, np.max(Y) + 1)) # zero matrix with rows same as Y, (9+1) = 10 columns\n",
        "  one_hot_Y[np.arange(Y.size), Y] = 1 # for each row, set a 1 at the index with the label\n",
        "\n",
        "  return one_hot_Y"
      ]
    },
    {
      "cell_type": "code",
      "execution_count": 19,
      "metadata": {
        "id": "Vmj6H1ga66so"
      },
      "outputs": [],
      "source": [
        "def init_network(units_list):\n",
        "  \"\"\"\n",
        "  inputs:\n",
        "    units_list (list (1, num_layers)): number of units in each layer of the neural network, starting with input layer\n",
        "\n",
        "  outputs:\n",
        "    W_list (list (1, num_layers)): List of weight matrices, each index is a 2D matrix containing all weights in a layer\n",
        "    b_list (list (1, num_layers-1)): List of bias matrices, each index is a row matrix containing all biases in a layer\n",
        "  \"\"\"\n",
        "\n",
        "  num_layers = len(units_list)\n",
        "  W_list = []\n",
        "  b_list = []\n",
        "\n",
        "  for i in range(1, num_layers):\n",
        "    W_temp = np.random.rand(units_list[i-1], units_list[i]) - 0.5 # random matrix with rows previous layer, columns current layer\n",
        "    b_temp = np.random.rand(1, units_list[i]) - 0.5 # random matrix with 1 row, columns current layer\n",
        "\n",
        "    W_list.append(W_temp) # add new W and b matrices to their lists\n",
        "    b_list.append(b_temp)\n",
        "\n",
        "  return W_list, b_list"
      ]
    },
    {
      "cell_type": "code",
      "execution_count": 20,
      "metadata": {
        "id": "bm6QQ29X-pPK"
      },
      "outputs": [],
      "source": [
        "def forward_prop(X, W_list, b_list):\n",
        "  \"\"\"\n",
        "  inputs:\n",
        "    X (ndarray (m, 784)): each row is a training example, each column is a brightness intensity that makes up the image\n",
        "    W_list (list (1, num_layers)): List of weight matrices, each index is a 2D matrix containing all weights in a layer\n",
        "    b_list (list (1, num_layers-1)): List of bias matrices, each index is a row matrix containing all biases in a layer\n",
        "\n",
        "  outputs:\n",
        "    Z_list ((list (1, num_layers))): list of result matrices before activation, each is a 2D matrix w/m rows and num_units cols\n",
        "    A_list ((list (1, num_layers))): list of result matrices after activation, each is a 2D matrix w/m rows and num_units cols\n",
        "  \"\"\"\n",
        "\n",
        "  A_list = [X] # activation is not applied to the input values, but it belongs in this list since input layer is in units_list\n",
        "  Z_list = []\n",
        "  num_layers = len(W_list)\n",
        "\n",
        "  for i in range(num_layers):\n",
        "    Z_temp = A_list[i].dot(W_list[i]) + b_list[i] # apply forward prop formula\n",
        "\n",
        "    if i != len(W_list)-1:\n",
        "      A_temp = relu(Z_temp) # relu activation for layers 0-(n-1), softmax activation for layer n\n",
        "    else:\n",
        "      A_temp = softmax(Z_temp)\n",
        "\n",
        "    Z_list.append(Z_temp) # add new Z and A matrices to their lists\n",
        "    A_list.append(A_temp)\n",
        "\n",
        "  return A_list, Z_list"
      ]
    },
    {
      "cell_type": "code",
      "execution_count": 21,
      "metadata": {
        "id": "npieaOETALZG"
      },
      "outputs": [],
      "source": [
        "def back_prop(Y, A_list, Z_list, W_list, b_list):\n",
        "  \"\"\"\n",
        "  inputs:\n",
        "    Y (ndarray (m, 1)): column matrix of true labels\n",
        "    Z_list ((list (1, num_layers))): list of result matrices before activation, each is a 2D matrix w/m rows and num_units cols\n",
        "    A_list ((list (1, num_layers))): list of result matrices after activation, each is a 2D matrix w/m rows and num_units cols\n",
        "    W_list (list (1, num_layers)): List of weight matrices, each index is a 2D matrix containing all weights in a layer\n",
        "    b_list (list (1, num_layers-1)): List of bias matrices, each index is a row matrix containing all biases in a layer\n",
        "\n",
        "  outputs:\n",
        "    dW_list (list (1, num_layers)): list of weight adjustment matrices, each index is a 2D matrix with weight adjustments for each weight\n",
        "    db_list (list (1, num_layers-1)): list of bias adjustment matrices, each index is a row matrix with bias adjustments for each bias\n",
        "  \"\"\"\n",
        "\n",
        "  one_hot_Y = one_hot(Y) # encoding is done here in case you choose to shuffle the data/use batch Grad Desc for each iteration\n",
        "  m, _ = A_list[0].shape # A_list[0] = X --> m is the true number of training examples being used here\n",
        "\n",
        "  dZn = A_list[-1] - one_hot_Y # final layer dW and db have unique formula b/c softmax activation instead of relu\n",
        "  dWn = (1 / m) * ((A_list[-2].T).dot(dZn))\n",
        "  dbn = (1 / m) * np.sum(dZn, axis = 0)\n",
        "\n",
        "  dZ_list = [dZn] # initialize the lists with final layer adjustments\n",
        "  dW_list = [dWn]\n",
        "  db_list = [dbn]\n",
        "\n",
        "  layers = (-1) * len(A_list)\n",
        "\n",
        "  for i in range(-3, layers-1, -1):\n",
        "    dZ_temp = dZ_list[i+2].dot(W_list[i+2].T) * relu_deriv(Z_list[i+1]) # apply generalized back propogation formula, indeces w.r.t. A_list\n",
        "    dW_temp = (1 / m) * (A_list[i].T).dot(dZ_temp)\n",
        "    db_temp = (1 / m) * np.sum(dZ_temp, axis = 0)\n",
        "\n",
        "    dZ_list = [dZ_temp] + dZ_list # add new adjustment matrices to the list from the fron to keep with the format of W_list\n",
        "    dW_list = [dW_temp] + dW_list\n",
        "    db_list = [db_temp] + db_list\n",
        "\n",
        "  return dW_list, db_list"
      ]
    },
    {
      "cell_type": "code",
      "execution_count": 22,
      "metadata": {
        "id": "8n1HHwMIBlWK"
      },
      "outputs": [],
      "source": [
        "def update_params(W_list, b_list, dW_list, db_list, alpha):\n",
        "  \"\"\"\n",
        "  inputs:\n",
        "    W_list (list (1, num_layers)): List of weight matrices, each index is a 2D matrix containing all weights in a layer\n",
        "    b_list (list (1, num_layers-1)): List of bias matrices, each index is a row matrix containing all biases in a layer\n",
        "    dW_list (list (1, num_layers)): list of weight adjustment matrices, each index is a 2D matrix with weight adjustments for each weight\n",
        "    db_list (list (1, num_layers-1)): list of bias adjustment matrices, each index is a row matrix with bias adjustments for each bias\n",
        "    alpha (float): learning rate\n",
        "\n",
        "  outputs:\n",
        "    W_list (list (1, num_layers)): List of weight matrices, each index is a 2D matrix containing all weights in a layer\n",
        "    b_list (list (1, num_layers-1)): List of bias matrices, each index is a row matrix containing all biases in a layer\n",
        "  \"\"\"\n",
        "\n",
        "  W_list = [w - alpha*dw for w, dw in zip(W_list, dW_list)] # use list comprehension to update the W and b matrices\n",
        "  b_list = [b - alpha*db for b, db in zip(b_list, db_list)]\n",
        "\n",
        "  return W_list, b_list"
      ]
    },
    {
      "cell_type": "code",
      "execution_count": 23,
      "metadata": {
        "id": "ihEWzIcUNEye"
      },
      "outputs": [],
      "source": [
        "def get_predictions(An):\n",
        "  \"\"\"\n",
        "  inputs:\n",
        "    An (ndarray (m, 10)): last layer values after softmax\n",
        "\n",
        "  outputs:\n",
        "    predictions (ndarray (m, 1)): column matrix with predictions of label for each X\n",
        "  \"\"\"\n",
        "\n",
        "  predictions = np.argmax(An, axis = 1) # softmax returns probability of being a value, so highest probability is the label give by NN\n",
        "\n",
        "  return predictions"
      ]
    },
    {
      "cell_type": "code",
      "execution_count": 24,
      "metadata": {
        "id": "TIt6DP1FFp-o"
      },
      "outputs": [],
      "source": [
        "def get_accuracy(predictions, Y):\n",
        "  \"\"\"\n",
        "  inputs:\n",
        "    predictions (ndarray (m, 1)): column matrix with predictions of label for each X\n",
        "    Y (ndarray (m, 1)): column matrix of true labels\n",
        "\n",
        "  outputs:\n",
        "    accuracy (float): number correct predictions / number total predictions\n",
        "  \"\"\"\n",
        "\n",
        "  accuracy = np.sum(predictions == Y) / Y.size\n",
        "\n",
        "  return accuracy"
      ]
    },
    {
      "cell_type": "code",
      "execution_count": 39,
      "metadata": {
        "id": "6nMmqUAPDONG"
      },
      "outputs": [],
      "source": [
        "def gradient_descent(X, Y, units_list, alpha, iterations, resume = False, W_list = 0, b_list = 0):\n",
        "  \"\"\"\n",
        "  inputs:\n",
        "    X (ndarray (m, 784)): each row is a training example, each column is a brightness intensity that makes up the image\n",
        "    Y (ndarray (m, 1)): column matrix of true labels\n",
        "    units_list (list (1, num_layers)): number of units in each layer of the neural network, starting with input layer\n",
        "    alpha (float): learning rate\n",
        "    iterations (int): number of times to run gradient descent over all of the data\n",
        "    resume (bool): allows continuing gradient descent using previously trained weights and biases\n",
        "    W_list (list (1, num_layers)): same as before, but set to 0 as default to optionally allow using previously trained weights\n",
        "    b_list (list (1, num_layers-1)): same as before, but set to 0 as default to optionally allow using previously trained biases\n",
        "\n",
        "  outputs:\n",
        "    W_list (list (1, num_layers)): List of weight matrices, each index is a 2D matrix containing all weights in a layer\n",
        "    b_list (list (1, num_layers-1)): List of bias matrices, each index is a row matrix containing all biases in a layer\n",
        "    accuracy_list (list (1, iterations)): record of accuracy score for each iteration\n",
        "    iterations_list (list (1, iterations)): record of iteration number for each iterations (list for consistency, np.arange would work fine)\n",
        "  \"\"\"\n",
        "\n",
        "  lists_given = isinstance(W_list, list) and isinstance(b_list, list)\n",
        "  if (not resume) and (not lists_given):\n",
        "    W_list, b_list = init_network(units_list) # load trained weights and baises if resume is true and W_list/b_list are given\n",
        "\n",
        "  accuracy_list = [] # record accuracy v.s. iterations for visualizing data\n",
        "  iterations_list = []\n",
        "\n",
        "  for i in range(iterations+1):\n",
        "    A_list, Z_list = forward_prop(X, W_list, b_list) # run gradient descent algorithm\n",
        "    dW_list, db_list = back_prop(Y, A_list, Z_list, W_list, b_list)\n",
        "    W_list, b_list = update_params(W_list, b_list, dW_list, db_list, alpha)\n",
        "\n",
        "    predictions = get_predictions(A_list[-1]) # update accuracy and iterations lists\n",
        "    accuracy = get_accuracy(predictions, Y)\n",
        "    accuracy_list.append(accuracy)\n",
        "    iterations_list.append(i)\n",
        "\n",
        "    if i % 50 == 0: # visualize training while progress is continuing\n",
        "      print(\"Iteration: \", i)\n",
        "      print(predictions, Y)\n",
        "      print(accuracy)\n",
        "\n",
        "  return W_list, b_list, accuracy_list, iterations_list"
      ]
    },
    {
      "cell_type": "code",
      "execution_count": 40,
      "metadata": {
        "colab": {
          "base_uri": "https://localhost:8080/"
        },
        "id": "Y0hpVwkKK5WP",
        "outputId": "ff687c23-b44d-4eaf-d8d1-ab410437a557"
      },
      "outputs": [
        {
          "output_type": "stream",
          "name": "stdout",
          "text": [
            "Iteration:  0\n",
            "[9 8 8 ... 8 3 8] [0 3 6 ... 9 3 0]\n",
            "0.11773080899676265\n",
            "Iteration:  50\n",
            "[0 3 1 ... 9 3 0] [0 3 6 ... 9 3 0]\n",
            "0.6248072001220359\n",
            "Iteration:  100\n",
            "[0 3 1 ... 9 3 0] [0 3 6 ... 9 3 0]\n",
            "0.743029542873608\n",
            "Iteration:  150\n",
            "[0 3 1 ... 9 3 0] [0 3 6 ... 9 3 0]\n",
            "0.8071662231563247\n",
            "Iteration:  200\n",
            "[0 3 1 ... 9 3 0] [0 3 6 ... 9 3 0]\n",
            "0.8325734334480246\n",
            "Iteration:  250\n",
            "[0 3 1 ... 9 3 0] [0 3 6 ... 9 3 0]\n",
            "0.853777182664113\n",
            "Iteration:  300\n",
            "[0 3 6 ... 9 3 0] [0 3 6 ... 9 3 0]\n",
            "0.8678621671553756\n",
            "Iteration:  350\n",
            "[0 3 6 ... 9 3 0] [0 3 6 ... 9 3 0]\n",
            "0.8738114205325515\n",
            "Iteration:  400\n",
            "[0 3 6 ... 9 3 0] [0 3 6 ... 9 3 0]\n",
            "0.8785572636824353\n",
            "Iteration:  450\n",
            "[0 3 6 ... 9 3 0] [0 3 6 ... 9 3 0]\n",
            "0.8890150680520009\n",
            "Iteration:  500\n",
            "[0 3 6 ... 9 3 0] [0 3 6 ... 9 3 0]\n",
            "0.8921507144188885\n",
            "Iteration:  550\n",
            "[0 3 6 ... 9 3 0] [0 3 6 ... 9 3 0]\n",
            "0.8958456922998694\n",
            "Iteration:  600\n",
            "[0 3 6 ... 9 3 0] [0 3 6 ... 9 3 0]\n",
            "0.8996593162595976\n",
            "Iteration:  650\n",
            "[0 3 6 ... 9 3 0] [0 3 6 ... 9 3 0]\n",
            "0.9033881930202207\n",
            "Iteration:  700\n",
            "[0 3 6 ... 9 3 0] [0 3 6 ... 9 3 0]\n",
            "0.9037102323768199\n",
            "Iteration:  750\n",
            "[0 3 6 ... 9 3 0] [0 3 6 ... 9 3 0]\n",
            "0.9078628451329683\n",
            "Iteration:  800\n",
            "[0 3 6 ... 9 3 0] [0 3 6 ... 9 3 0]\n",
            "0.9047780470855438\n",
            "Iteration:  850\n",
            "[0 3 6 ... 9 3 0] [0 3 6 ... 9 3 0]\n",
            "0.9112357836573501\n",
            "Iteration:  900\n",
            "[0 3 6 ... 9 3 0] [0 3 6 ... 9 3 0]\n",
            "0.9135748063526501\n",
            "Iteration:  950\n",
            "[0 3 6 ... 9 3 0] [0 3 6 ... 9 3 0]\n",
            "0.9106425532636147\n",
            "Iteration:  1000\n",
            "[0 3 6 ... 9 3 0] [0 3 6 ... 9 3 0]\n",
            "0.9164562111222224\n",
            "total time taken to train:  522.8759033679962\n"
          ]
        }
      ],
      "source": [
        "start = time.time()\n",
        "_, n = X_train.shape\n",
        "units_list = [n, 16, 16, 10] # [n, 100, 50, 25, 10] can get accuracy over 95%, but takes abt 20 mins to train with 1000 iterations\n",
        "W_list, b_list, accuracy_list, iterations_list = gradient_descent(X_train, Y_train, units_list, 0.25, 1000)\n",
        "print('total time taken to train: ', (time.time() - start))"
      ]
    },
    {
      "cell_type": "code",
      "execution_count": 42,
      "metadata": {
        "colab": {
          "base_uri": "https://localhost:8080/",
          "height": 570
        },
        "id": "PvKPEJt65BdE",
        "outputId": "1e584593-62c5-488b-99c1-0fcd2e959697"
      },
      "outputs": [
        {
          "output_type": "display_data",
          "data": {
            "text/plain": [
              "<Figure size 800x600 with 1 Axes>"
            ],
            "image/png": "[encoded data removed]"
          },
          "metadata": {}
        }
      ],
      "source": [
        "plt.style.use('dark_background')  # Predefined style for black background\n",
        "fig, ax = plt.subplots(1, 1, figsize = (8,6)) # define plot and set figure size\n",
        "ax.plot(iterations_list, accuracy_list, color='cyan')\n",
        "ax.set_ylim(0., 1.) # Set plot dimension\n",
        "ax.set_xlim(0, 1000)\n",
        "ax.set_yticks(np.arange(0, 1.1, 0.1))  # Set y-axis ticks at every 0.1 interval to 1.0\n",
        "ax.set_xticks(np.arange(0, 1001, 100)) # Set x-axis ticks at every 100 interval to 1000\n",
        "ax.set_ylabel('Accuracy', fontsize = 15)\n",
        "ax.set_xlabel('Iteration', fontsize = 15)\n",
        "ax.set_title('MNIST Neural Network Training Progress')\n",
        "plt.show()"
      ]
    },
    {
      "cell_type": "code",
      "execution_count": 43,
      "metadata": {
        "colab": {
          "base_uri": "https://localhost:8080/"
        },
        "id": "yPUAHBvdPEwi",
        "outputId": "83f3cde2-8550-4007-d135-dabf79a2c3bd"
      },
      "outputs": [
        {
          "output_type": "stream",
          "name": "stdout",
          "text": [
            "[7 0 6 4 0] [7 0 6 4 0]\n",
            "0.918\n"
          ]
        }
      ],
      "source": [
        "A_list, Z_list = forward_prop(X_test, W_list, b_list) # apply trained weights and biases on test data\n",
        "predictions = get_predictions(A_list[-1])\n",
        "accuracy = get_accuracy(predictions, Y_test)\n",
        "print(predictions[:5], Y_test[:5])\n",
        "print(accuracy)"
      ]
    },
    {
      "cell_type": "code",
      "execution_count": 44,
      "metadata": {
        "colab": {
          "base_uri": "https://localhost:8080/",
          "height": 448
        },
        "id": "I14fTum9R7Z5",
        "outputId": "525216d0-bcad-486b-b2b9-bc0f7170cd1a"
      },
      "outputs": [
        {
          "output_type": "stream",
          "name": "stdout",
          "text": [
            "prediction:  7 actual:  7\n"
          ]
        },
        {
          "output_type": "display_data",
          "data": {
            "text/plain": [
              "<Figure size 640x480 with 1 Axes>"
            ],
            "image/png": "[encoded data removed]"
          },
          "metadata": {}
        }
      ],
      "source": [
        "img = np.reshape(X_test[0], (28,28)) # visualize results\n",
        "plt.imshow(img, cmap = 'gray')\n",
        "print('prediction: ', predictions[0], 'actual: ', Y_test[0])"
      ]
    },
    {
      "cell_type": "code",
      "source": [],
      "metadata": {
        "id": "e9PMhffXAx4Z"
      },
      "execution_count": 44,
      "outputs": []
    }
  ],
  "metadata": {
    "colab": {
      "provenance": []
    },
    "kernelspec": {
      "display_name": "Python 3",
      "name": "python3"
    },
    "language_info": {
      "name": "python"
    }
  },
  "nbformat": 4,
  "nbformat_minor": 0
}